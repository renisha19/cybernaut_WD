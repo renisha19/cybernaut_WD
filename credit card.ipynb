{
 "cells": [
  {
   "cell_type": "code",
   "execution_count": 3,
   "id": "244882ec-1732-4dca-acf6-ef79ba594160",
   "metadata": {},
   "outputs": [
    {
     "name": "stdout",
     "output_type": "stream",
     "text": [
      "Dataset loaded successfully!\n"
     ]
    }
   ],
   "source": [
    "# Import necessary libraries\n",
    "import pandas as pd\n",
    "import numpy as np\n",
    "from sklearn.model_selection import train_test_split\n",
    "from sklearn.preprocessing import StandardScaler, LabelEncoder\n",
    "from sklearn.ensemble import RandomForestClassifier, GradientBoostingClassifier\n",
    "from sklearn.metrics import accuracy_score, classification_report, confusion_matrix\n",
    "from imblearn.over_sampling import SMOTE\n",
    "import seaborn as sns\n",
    "import matplotlib.pyplot as plt\n",
    "\n",
    "# Load dataset from UCI repository\n",
    "url = 'https://archive.ics.uci.edu/ml/machine-learning-databases/credit-screening/crx.data'\n",
    "try:\n",
    "    data = pd.read_csv(url, header=None, na_values='?')  # Load dataset, treating '?' as NaN\n",
    "    print(\"Dataset loaded successfully!\")\n",
    "except Exception as e:\n",
    "    print(f\"Error loading dataset: {e}\")\n",
    "    raise\n",
    "\n",
    "# Assign column names (from UCI dataset description)\n",
    "column_names = [\n",
    "    \"A1\", \"A2\", \"A3\", \"A4\", \"A5\", \"A6\", \"A7\", \"A8\", \"A9\", \"A10\",\n",
    "    \"A11\", \"A12\", \"A13\", \"A14\", \"A15\", \"target\"\n",
    "]\n",
    "data.columns = column_names\n"
   ]
  },
  {
   "cell_type": "code",
   "execution_count": 4,
   "id": "2c255666-8e2c-4dfd-8c40-08c7b2098cef",
   "metadata": {},
   "outputs": [
    {
     "name": "stdout",
     "output_type": "stream",
     "text": [
      "First 5 rows of the dataset:\n",
      "  A1     A2     A3 A4 A5 A6 A7    A8 A9 A10  A11 A12 A13    A14  A15 target\n",
      "0  b  30.83  0.000  u  g  w  v  1.25  t   t    1   f   g  202.0    0      +\n",
      "1  a  58.67  4.460  u  g  q  h  3.04  t   t    6   f   g   43.0  560      +\n",
      "2  a  24.50  0.500  u  g  q  h  1.50  t   f    0   f   g  280.0  824      +\n",
      "3  b  27.83  1.540  u  g  w  v  3.75  t   t    5   t   g  100.0    3      +\n",
      "4  b  20.17  5.625  u  g  w  v  1.71  t   f    0   f   s  120.0    0      +\n",
      "\n",
      "Dataset Information:\n",
      "<class 'pandas.core.frame.DataFrame'>\n",
      "RangeIndex: 690 entries, 0 to 689\n",
      "Data columns (total 16 columns):\n",
      " #   Column  Non-Null Count  Dtype  \n",
      "---  ------  --------------  -----  \n",
      " 0   A1      678 non-null    object \n",
      " 1   A2      678 non-null    float64\n",
      " 2   A3      690 non-null    float64\n",
      " 3   A4      684 non-null    object \n",
      " 4   A5      684 non-null    object \n",
      " 5   A6      681 non-null    object \n",
      " 6   A7      681 non-null    object \n",
      " 7   A8      690 non-null    float64\n",
      " 8   A9      690 non-null    object \n",
      " 9   A10     690 non-null    object \n",
      " 10  A11     690 non-null    int64  \n",
      " 11  A12     690 non-null    object \n",
      " 12  A13     690 non-null    object \n",
      " 13  A14     677 non-null    float64\n",
      " 14  A15     690 non-null    int64  \n",
      " 15  target  690 non-null    object \n",
      "dtypes: float64(4), int64(2), object(10)\n",
      "memory usage: 86.4+ KB\n",
      "None\n",
      "\n",
      "Statistical Summary:\n",
      "               A2          A3          A8        A11          A14  \\\n",
      "count  678.000000  690.000000  690.000000  690.00000   677.000000   \n",
      "mean    31.568171    4.758725    2.223406    2.40000   184.014771   \n",
      "std     11.957862    4.978163    3.346513    4.86294   173.806768   \n",
      "min     13.750000    0.000000    0.000000    0.00000     0.000000   \n",
      "25%     22.602500    1.000000    0.165000    0.00000    75.000000   \n",
      "50%     28.460000    2.750000    1.000000    0.00000   160.000000   \n",
      "75%     38.230000    7.207500    2.625000    3.00000   276.000000   \n",
      "max     80.250000   28.000000   28.500000   67.00000  2000.000000   \n",
      "\n",
      "                 A15  \n",
      "count     690.000000  \n",
      "mean     1017.385507  \n",
      "std      5210.102598  \n",
      "min         0.000000  \n",
      "25%         0.000000  \n",
      "50%         5.000000  \n",
      "75%       395.500000  \n",
      "max    100000.000000  \n"
     ]
    }
   ],
   "source": [
    "# Step 1: Data Exploration\n",
    "print(\"First 5 rows of the dataset:\")\n",
    "print(data.head())\n",
    "print(\"\\nDataset Information:\")\n",
    "print(data.info())\n",
    "print(\"\\nStatistical Summary:\")\n",
    "print(data.describe())"
   ]
  },
  {
   "cell_type": "code",
   "execution_count": 6,
   "id": "1d5e3abe-b56d-48d9-be96-a523675a0257",
   "metadata": {},
   "outputs": [],
   "source": [
    "# Step 2: Data Preprocessing\n",
    "# Handle missing values\n",
    "# Handle missing values\n",
    "data.fillna(data.median(numeric_only=True), inplace=True)  # Fill numeric NaN values with column medians\n",
    "data.ffill(inplace=True)  # Forward-fill missing values for categorical columns\n",
    "\n",
    "# Encode categorical data\n",
    "label_encoders = {}\n",
    "for column in data.select_dtypes(include=['object']).columns:\n",
    "    le = LabelEncoder()\n",
    "    data[column] = le.fit_transform(data[column])\n",
    "    label_encoders[column] = le\n",
    "\n",
    "# Feature scaling\n",
    "scaler = StandardScaler()\n",
    "scaled_features = scaler.fit_transform(data.drop('target', axis=1))\n",
    "data_scaled = pd.DataFrame(scaled_features, columns=data.columns[:-1])\n",
    "\n",
    "# Separate features and target\n",
    "X = data_scaled\n",
    "y = data['target'].replace({'+': 1, '-': 0})  # Convert target to binary: '+' → 1, '-' → 0\n",
    "\n",
    "# Handle class imbalance using SMOTE\n",
    "smote = SMOTE(random_state=42)\n",
    "X_resampled, y_resampled = smote.fit_resample(X, y)"
   ]
  },
  {
   "cell_type": "code",
   "execution_count": 7,
   "id": "726e930b-6000-49a0-b292-721ff3b9d55e",
   "metadata": {},
   "outputs": [],
   "source": [
    "# Step 3: Splitting the dataset\n",
    "X_train, X_test, y_train, y_test = train_test_split(X_resampled, y_resampled, test_size=0.2, random_state=42)\n"
   ]
  },
  {
   "cell_type": "code",
   "execution_count": 8,
   "id": "8247cf75-68ab-4694-9eb1-ace3fc2c588a",
   "metadata": {},
   "outputs": [
    {
     "name": "stdout",
     "output_type": "stream",
     "text": [
      "\n",
      "Random Forest Performance:\n",
      "Accuracy: 0.92\n",
      "Classification Report:\n",
      "              precision    recall  f1-score   support\n",
      "\n",
      "           0       0.92      0.92      0.92        76\n",
      "           1       0.92      0.92      0.92        78\n",
      "\n",
      "    accuracy                           0.92       154\n",
      "   macro avg       0.92      0.92      0.92       154\n",
      "weighted avg       0.92      0.92      0.92       154\n",
      "\n",
      "Confusion Matrix:\n"
     ]
    },
    {
     "data": {
      "image/png": "[encoded data removed]",
      "text/plain": [
       "<Figure size 640x480 with 2 Axes>"
      ]
     },
     "metadata": {},
     "output_type": "display_data"
    },
    {
     "name": "stdout",
     "output_type": "stream",
     "text": [
      "\n",
      "Gradient Boosting Performance:\n",
      "Accuracy: 0.92\n",
      "Classification Report:\n",
      "              precision    recall  f1-score   support\n",
      "\n",
      "           0       0.91      0.92      0.92        76\n",
      "           1       0.92      0.91      0.92        78\n",
      "\n",
      "    accuracy                           0.92       154\n",
      "   macro avg       0.92      0.92      0.92       154\n",
      "weighted avg       0.92      0.92      0.92       154\n",
      "\n",
      "Confusion Matrix:\n"
     ]
    },
    {
     "data": {
      "image/png": "[encoded data removed]",
      "text/plain": [
       "<Figure size 640x480 with 2 Axes>"
      ]
     },
     "metadata": {},
     "output_type": "display_data"
    }
   ],
   "source": [
    "# Step 4: Model Training and Evaluation\n",
    "models = {\n",
    "    \"Random Forest\": RandomForestClassifier(random_state=42),\n",
    "    \"Gradient Boosting\": GradientBoostingClassifier(random_state=42)\n",
    "}\n",
    "\n",
    "for model_name, model in models.items():\n",
    "    model.fit(X_train, y_train)\n",
    "    y_pred = model.predict(X_test)\n",
    "    \n",
    "    print(f\"\\n{model_name} Performance:\")\n",
    "    print(f\"Accuracy: {accuracy_score(y_test, y_pred):.2f}\")\n",
    "    print(\"Classification Report:\")\n",
    "    print(classification_report(y_test, y_pred))\n",
    "    print(\"Confusion Matrix:\")\n",
    "    sns.heatmap(confusion_matrix(y_test, y_pred), annot=True, fmt='d', cmap='Blues')\n",
    "    plt.title(f\"{model_name} Confusion Matrix\")\n",
    "    plt.show()"
   ]
  },
  {
   "cell_type": "code",
   "execution_count": 9,
   "id": "2c385a94-559f-4925-9739-306d8e296f82",
   "metadata": {},
   "outputs": [
    {
     "name": "stdout",
     "output_type": "stream",
     "text": [
      "Performance for group 1:\n",
      "Accuracy: 0.98\n",
      "Performance for group 0:\n",
      "Accuracy: 0.98\n"
     ]
    }
   ],
   "source": [
    "# Step 5: Fairness Analysis (Optional)\n",
    "# Check for bias by analyzing predictions across different demographic groups\n",
    "# Example: A1 (Gender) as a demographic-sensitive attribute\n",
    "demographic_column = 'A1'\n",
    "for group in data[demographic_column].unique():\n",
    "    group_indices = data[demographic_column] == group\n",
    "    group_X = X.iloc[group_indices.index]\n",
    "    group_y = y[group_indices.index]\n",
    "    group_y_pred = models[\"Random Forest\"].predict(group_X)\n",
    "    print(f\"Performance for group {group}:\")\n",
    "    print(f\"Accuracy: {accuracy_score(group_y, group_y_pred):.2f}\")"
   ]
  },
  {
   "cell_type": "code",
   "execution_count": 13,
   "id": "f82ddafd-11bd-495f-a233-62fff2cf0630",
   "metadata": {},
   "outputs": [
    {
     "name": "stdout",
     "output_type": "stream",
     "text": [
      "Prediction: Rejected\n"
     ]
    }
   ],
   "source": [
    "def predict_credit_approval(input_data, model):\n",
    "    # Convert the input into a DataFrame with the same feature names\n",
    "    input_df = pd.DataFrame([input_data], columns=data.columns[:-1])  # Exclude the 'target' column\n",
    "    \n",
    "    # Scale the input while keeping it as a DataFrame\n",
    "    input_data_scaled = pd.DataFrame(scaler.transform(input_df), columns=data.columns[:-1])\n",
    "    \n",
    "    # Predict using the model\n",
    "    prediction = model.predict(input_data_scaled)\n",
    "    return \"Approved\" if prediction[0] == 1 else \"Rejected\"\n",
    "\n",
    "# Example usage of the prediction function\n",
    "sample_input = [1, 30, 20000, 1, 2, 0, 3, 1500, 1, 0, 2, 1, 0, 25, 1]  # Example applicant details\n",
    "print(\"Prediction:\", predict_credit_approval(sample_input, models[\"Random Forest\"]))\n"
   ]
  },
  {
   "cell_type": "code",
   "execution_count": 14,
   "id": "ac4fd758-ea65-4d4b-983f-99bd52dc0748",
   "metadata": {},
   "outputs": [
    {
     "name": "stdout",
     "output_type": "stream",
     "text": [
      "Prediction: Rejected\n"
     ]
    }
   ],
   "source": [
    "sample_input = [0, 45, 50000, 1, 3, 1, 2, 2500, 1, 1, 1, 0, 0, 30, 1]  # Higher income, stable profile\n",
    "print(\"Prediction:\", predict_credit_approval(sample_input, models[\"Random Forest\"]))\n"
   ]
  },
  {
   "cell_type": "code",
   "execution_count": 26,
   "id": "6b3f727b-ff24-4770-99f7-d18cd5a330c3",
   "metadata": {},
   "outputs": [
    {
     "name": "stdout",
     "output_type": "stream",
     "text": [
      "Prediction: Approved\n"
     ]
    }
   ],
   "source": [
    "sample_input_row3 = X_train.iloc[3].tolist()  # Get the 4th row (index 3) from training data\n",
    "print(\"Prediction:\", predict_credit_approval(sample_input_row3, models[\"Random Forest\"]))"
   ]
  },
  {
   "cell_type": "code",
   "execution_count": 27,
   "id": "4a2710de-d65c-45fd-8bfa-2432ee1d26a8",
   "metadata": {},
   "outputs": [
    {
     "name": "stdout",
     "output_type": "stream",
     "text": [
      "Prediction: Approved\n"
     ]
    }
   ],
   "source": [
    "sample_input_row4 = X_train.iloc[4].tolist()  # Get the 5th row (index 4) from training data\n",
    "print(\"Prediction:\", predict_credit_approval(sample_input_row4, models[\"Random Forest\"]))"
   ]
  }
 ],
 "metadata": {
  "kernelspec": {
   "display_name": "Python 3 (ipykernel)",
   "language": "python",
   "name": "python3"
  },
  "language_info": {
   "codemirror_mode": {
    "name": "ipython",
    "version": 3
   },
   "file_extension": ".py",
   "mimetype": "text/x-python",
   "name": "python",
   "nbconvert_exporter": "python",
   "pygments_lexer": "ipython3",
   "version": "3.12.7"
  }
 },
 "nbformat": 4,
 "nbformat_minor": 5
}
